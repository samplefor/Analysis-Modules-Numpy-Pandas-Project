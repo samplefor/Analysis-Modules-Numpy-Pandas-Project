{
 "cells": [
  {
   "cell_type": "markdown",
   "id": "00c654d9",
   "metadata": {},
   "source": [
    "#                           Sales data Visualization"
   ]
  },
  {
   "cell_type": "code",
   "execution_count": 1,
   "id": "04d89cd9",
   "metadata": {},
   "outputs": [],
   "source": [
    "import numpy as np\n",
    "import pandas as pd"
   ]
  },
  {
   "cell_type": "code",
   "execution_count": 2,
   "id": "78783a54",
   "metadata": {},
   "outputs": [],
   "source": [
    "import matplotlib.pyplot as plt\n"
   ]
  },
  {
   "cell_type": "code",
   "execution_count": 3,
   "id": "1114282d",
   "metadata": {},
   "outputs": [],
   "source": [
    "import seaborn as sns\n"
   ]
  },
  {
   "cell_type": "code",
   "execution_count": 4,
   "id": "77375aa2",
   "metadata": {},
   "outputs": [],
   "source": [
    "import warnings\n",
    "warnings.filterwarnings(\"ignore\")"
   ]
  },
  {
   "cell_type": "markdown",
   "id": "662fda72",
   "metadata": {},
   "source": [
    "# Importing Dataset"
   ]
  },
  {
   "cell_type": "code",
   "execution_count": 5,
   "id": "b2c94ed1",
   "metadata": {},
   "outputs": [
    {
     "data": {
      "text/html": [
       "<div>\n",
       "<style scoped>\n",
       "    .dataframe tbody tr th:only-of-type {\n",
       "        vertical-align: middle;\n",
       "    }\n",
       "\n",
       "    .dataframe tbody tr th {\n",
       "        vertical-align: top;\n",
       "    }\n",
       "\n",
       "    .dataframe thead th {\n",
       "        text-align: right;\n",
       "    }\n",
       "</style>\n",
       "<table border=\"1\" class=\"dataframe\">\n",
       "  <thead>\n",
       "    <tr style=\"text-align: right;\">\n",
       "      <th></th>\n",
       "      <th>Product_id</th>\n",
       "      <th>BrandName</th>\n",
       "      <th>Category</th>\n",
       "      <th>Individual_category</th>\n",
       "      <th>category_by_Gender</th>\n",
       "      <th>DiscountPrice (in Rs)</th>\n",
       "      <th>OriginalPrice (in Rs)</th>\n",
       "      <th>DiscountOffer</th>\n",
       "      <th>SizeOption</th>\n",
       "      <th>Ratings</th>\n",
       "      <th>Reviews</th>\n",
       "      <th>ORDERDATE</th>\n",
       "      <th>STATUS</th>\n",
       "      <th>QUANTITYORDERED</th>\n",
       "      <th>SALES</th>\n",
       "      <th>PRODUCTLINE</th>\n",
       "      <th>DEALSIZE</th>\n",
       "    </tr>\n",
       "  </thead>\n",
       "  <tbody>\n",
       "    <tr>\n",
       "      <th>0</th>\n",
       "      <td>2296012</td>\n",
       "      <td>Roadster</td>\n",
       "      <td>Bottom Wear</td>\n",
       "      <td>jeans</td>\n",
       "      <td>Men</td>\n",
       "      <td>824.0</td>\n",
       "      <td>1499</td>\n",
       "      <td>45% OFF</td>\n",
       "      <td>28, 30, 32, 34, 36</td>\n",
       "      <td>3.9</td>\n",
       "      <td>999</td>\n",
       "      <td>2/24/2020 0:00</td>\n",
       "      <td>Shipped</td>\n",
       "      <td>30</td>\n",
       "      <td>2871.00</td>\n",
       "      <td>Motorcycles</td>\n",
       "      <td>Small</td>\n",
       "    </tr>\n",
       "    <tr>\n",
       "      <th>1</th>\n",
       "      <td>13780156</td>\n",
       "      <td>LOCOMOTIVE</td>\n",
       "      <td>Bottom Wear</td>\n",
       "      <td>track-pants</td>\n",
       "      <td>Men</td>\n",
       "      <td>517.0</td>\n",
       "      <td>1149</td>\n",
       "      <td>55% OFF</td>\n",
       "      <td>S, M, L, XL</td>\n",
       "      <td>4.0</td>\n",
       "      <td>999</td>\n",
       "      <td>05-07-2020 00:00</td>\n",
       "      <td>Shipped</td>\n",
       "      <td>34</td>\n",
       "      <td>2765.90</td>\n",
       "      <td>Motorcycles</td>\n",
       "      <td>Small</td>\n",
       "    </tr>\n",
       "    <tr>\n",
       "      <th>2</th>\n",
       "      <td>11895958</td>\n",
       "      <td>Roadster</td>\n",
       "      <td>Topwear</td>\n",
       "      <td>shirts</td>\n",
       "      <td>Men</td>\n",
       "      <td>629.0</td>\n",
       "      <td>1399</td>\n",
       "      <td>55% OFF</td>\n",
       "      <td>38, 40, 42, 44, 46, 48</td>\n",
       "      <td>4.3</td>\n",
       "      <td>999</td>\n",
       "      <td>07-01-2020 00:00</td>\n",
       "      <td>Shipped</td>\n",
       "      <td>41</td>\n",
       "      <td>3884.34</td>\n",
       "      <td>Motorcycles</td>\n",
       "      <td>Medium</td>\n",
       "    </tr>\n",
       "    <tr>\n",
       "      <th>3</th>\n",
       "      <td>4335679</td>\n",
       "      <td>Zivame</td>\n",
       "      <td>Lingerie &amp; Sleep Wear</td>\n",
       "      <td>shapewear</td>\n",
       "      <td>Women</td>\n",
       "      <td>893.0</td>\n",
       "      <td>1295</td>\n",
       "      <td>31% OFF</td>\n",
       "      <td>S, M, L, XL, XXL</td>\n",
       "      <td>4.2</td>\n",
       "      <td>999</td>\n",
       "      <td>8/25/2020 0:00</td>\n",
       "      <td>Shipped</td>\n",
       "      <td>45</td>\n",
       "      <td>3746.70</td>\n",
       "      <td>Motorcycles</td>\n",
       "      <td>Medium</td>\n",
       "    </tr>\n",
       "    <tr>\n",
       "      <th>4</th>\n",
       "      <td>11690882</td>\n",
       "      <td>Roadster</td>\n",
       "      <td>Western</td>\n",
       "      <td>tshirts</td>\n",
       "      <td>Women</td>\n",
       "      <td>NaN</td>\n",
       "      <td>599</td>\n",
       "      <td>35% OFF</td>\n",
       "      <td>XS, S, M, L, XL</td>\n",
       "      <td>4.2</td>\n",
       "      <td>999</td>\n",
       "      <td>10-10-2020 00:00</td>\n",
       "      <td>Shipped</td>\n",
       "      <td>49</td>\n",
       "      <td>5205.27</td>\n",
       "      <td>Motorcycles</td>\n",
       "      <td>Medium</td>\n",
       "    </tr>\n",
       "    <tr>\n",
       "      <th>...</th>\n",
       "      <td>...</td>\n",
       "      <td>...</td>\n",
       "      <td>...</td>\n",
       "      <td>...</td>\n",
       "      <td>...</td>\n",
       "      <td>...</td>\n",
       "      <td>...</td>\n",
       "      <td>...</td>\n",
       "      <td>...</td>\n",
       "      <td>...</td>\n",
       "      <td>...</td>\n",
       "      <td>...</td>\n",
       "      <td>...</td>\n",
       "      <td>...</td>\n",
       "      <td>...</td>\n",
       "      <td>...</td>\n",
       "      <td>...</td>\n",
       "    </tr>\n",
       "    <tr>\n",
       "      <th>994</th>\n",
       "      <td>13641440</td>\n",
       "      <td>Tokyo Talkies</td>\n",
       "      <td>Western</td>\n",
       "      <td>jeans</td>\n",
       "      <td>Women</td>\n",
       "      <td>NaN</td>\n",
       "      <td>1899</td>\n",
       "      <td>59% OFF</td>\n",
       "      <td>28, 30, 32, 34</td>\n",
       "      <td>4.0</td>\n",
       "      <td>827</td>\n",
       "      <td>11-07-2020 00:00</td>\n",
       "      <td>Shipped</td>\n",
       "      <td>23</td>\n",
       "      <td>3675.63</td>\n",
       "      <td>Vintage Cars</td>\n",
       "      <td>Medium</td>\n",
       "    </tr>\n",
       "    <tr>\n",
       "      <th>995</th>\n",
       "      <td>13676452</td>\n",
       "      <td>VIMAL</td>\n",
       "      <td>Inner Wear &amp;  Sleep Wear</td>\n",
       "      <td>lounge-pants</td>\n",
       "      <td>Men</td>\n",
       "      <td>988.0</td>\n",
       "      <td>1798</td>\n",
       "      <td>45% OFF</td>\n",
       "      <td>S, M, L, XL, XXL</td>\n",
       "      <td>4.1</td>\n",
       "      <td>826</td>\n",
       "      <td>11/14/2020 0:00</td>\n",
       "      <td>Shipped</td>\n",
       "      <td>28</td>\n",
       "      <td>3442.04</td>\n",
       "      <td>Vintage Cars</td>\n",
       "      <td>Medium</td>\n",
       "    </tr>\n",
       "    <tr>\n",
       "      <th>996</th>\n",
       "      <td>6825447</td>\n",
       "      <td>HRX by Hrithik Roshan</td>\n",
       "      <td>Sports Wear</td>\n",
       "      <td>tshirts</td>\n",
       "      <td>Men</td>\n",
       "      <td>539.0</td>\n",
       "      <td>899</td>\n",
       "      <td>40% OFF</td>\n",
       "      <td>S, M, L, XL, XXL</td>\n",
       "      <td>4.2</td>\n",
       "      <td>826</td>\n",
       "      <td>11/26/2020 0:00</td>\n",
       "      <td>Shipped</td>\n",
       "      <td>49</td>\n",
       "      <td>6893.81</td>\n",
       "      <td>Vintage Cars</td>\n",
       "      <td>Medium</td>\n",
       "    </tr>\n",
       "    <tr>\n",
       "      <th>997</th>\n",
       "      <td>5523552</td>\n",
       "      <td>LOCOMOTIVE</td>\n",
       "      <td>Topwear</td>\n",
       "      <td>shirts</td>\n",
       "      <td>Men</td>\n",
       "      <td>593.0</td>\n",
       "      <td>1799</td>\n",
       "      <td>67% OFF</td>\n",
       "      <td>39, 40, 42, 44</td>\n",
       "      <td>4.1</td>\n",
       "      <td>826</td>\n",
       "      <td>01-02-2021 00:00</td>\n",
       "      <td>Shipped</td>\n",
       "      <td>24</td>\n",
       "      <td>2622.48</td>\n",
       "      <td>Vintage Cars</td>\n",
       "      <td>Small</td>\n",
       "    </tr>\n",
       "    <tr>\n",
       "      <th>998</th>\n",
       "      <td>8979975</td>\n",
       "      <td>HERE&amp;NOW</td>\n",
       "      <td>Topwear</td>\n",
       "      <td>shirts</td>\n",
       "      <td>Men</td>\n",
       "      <td>1181.0</td>\n",
       "      <td>2149</td>\n",
       "      <td>45% OFF</td>\n",
       "      <td>38, 40, 42, 44, 46</td>\n",
       "      <td>4.3</td>\n",
       "      <td>826</td>\n",
       "      <td>2/18/2021 0:00</td>\n",
       "      <td>Shipped</td>\n",
       "      <td>33</td>\n",
       "      <td>4417.38</td>\n",
       "      <td>Vintage Cars</td>\n",
       "      <td>Medium</td>\n",
       "    </tr>\n",
       "  </tbody>\n",
       "</table>\n",
       "<p>999 rows × 17 columns</p>\n",
       "</div>"
      ],
      "text/plain": [
       "     Product_id              BrandName                  Category  \\\n",
       "0       2296012               Roadster               Bottom Wear   \n",
       "1      13780156             LOCOMOTIVE               Bottom Wear   \n",
       "2      11895958               Roadster                   Topwear   \n",
       "3       4335679                 Zivame     Lingerie & Sleep Wear   \n",
       "4      11690882               Roadster                   Western   \n",
       "..          ...                    ...                       ...   \n",
       "994    13641440          Tokyo Talkies                   Western   \n",
       "995    13676452                  VIMAL  Inner Wear &  Sleep Wear   \n",
       "996     6825447  HRX by Hrithik Roshan               Sports Wear   \n",
       "997     5523552             LOCOMOTIVE                   Topwear   \n",
       "998     8979975               HERE&NOW                   Topwear   \n",
       "\n",
       "    Individual_category category_by_Gender  DiscountPrice (in Rs)  \\\n",
       "0                 jeans                Men                  824.0   \n",
       "1           track-pants                Men                  517.0   \n",
       "2                shirts                Men                  629.0   \n",
       "3             shapewear              Women                  893.0   \n",
       "4               tshirts              Women                    NaN   \n",
       "..                  ...                ...                    ...   \n",
       "994               jeans              Women                    NaN   \n",
       "995        lounge-pants                Men                  988.0   \n",
       "996             tshirts                Men                  539.0   \n",
       "997              shirts                Men                  593.0   \n",
       "998              shirts                Men                 1181.0   \n",
       "\n",
       "     OriginalPrice (in Rs) DiscountOffer              SizeOption  Ratings  \\\n",
       "0                     1499       45% OFF      28, 30, 32, 34, 36      3.9   \n",
       "1                     1149       55% OFF             S, M, L, XL      4.0   \n",
       "2                     1399       55% OFF  38, 40, 42, 44, 46, 48      4.3   \n",
       "3                     1295       31% OFF        S, M, L, XL, XXL      4.2   \n",
       "4                      599       35% OFF         XS, S, M, L, XL      4.2   \n",
       "..                     ...           ...                     ...      ...   \n",
       "994                   1899       59% OFF          28, 30, 32, 34      4.0   \n",
       "995                   1798       45% OFF        S, M, L, XL, XXL      4.1   \n",
       "996                    899       40% OFF        S, M, L, XL, XXL      4.2   \n",
       "997                   1799       67% OFF          39, 40, 42, 44      4.1   \n",
       "998                   2149       45% OFF      38, 40, 42, 44, 46      4.3   \n",
       "\n",
       "     Reviews         ORDERDATE   STATUS  QUANTITYORDERED    SALES  \\\n",
       "0        999    2/24/2020 0:00  Shipped               30  2871.00   \n",
       "1        999  05-07-2020 00:00  Shipped               34  2765.90   \n",
       "2        999  07-01-2020 00:00  Shipped               41  3884.34   \n",
       "3        999    8/25/2020 0:00  Shipped               45  3746.70   \n",
       "4        999  10-10-2020 00:00  Shipped               49  5205.27   \n",
       "..       ...               ...      ...              ...      ...   \n",
       "994      827  11-07-2020 00:00  Shipped               23  3675.63   \n",
       "995      826   11/14/2020 0:00  Shipped               28  3442.04   \n",
       "996      826   11/26/2020 0:00  Shipped               49  6893.81   \n",
       "997      826  01-02-2021 00:00  Shipped               24  2622.48   \n",
       "998      826    2/18/2021 0:00  Shipped               33  4417.38   \n",
       "\n",
       "      PRODUCTLINE DEALSIZE  \n",
       "0     Motorcycles    Small  \n",
       "1     Motorcycles    Small  \n",
       "2     Motorcycles   Medium  \n",
       "3     Motorcycles   Medium  \n",
       "4     Motorcycles   Medium  \n",
       "..            ...      ...  \n",
       "994  Vintage Cars   Medium  \n",
       "995  Vintage Cars   Medium  \n",
       "996  Vintage Cars   Medium  \n",
       "997  Vintage Cars    Small  \n",
       "998  Vintage Cars   Medium  \n",
       "\n",
       "[999 rows x 17 columns]"
      ]
     },
     "execution_count": 5,
     "metadata": {},
     "output_type": "execute_result"
    }
   ],
   "source": [
    "df=pd.read_csv(\"amazonesales_data.csv\")\n",
    "df"
   ]
  },
  {
   "cell_type": "markdown",
   "id": "33f32af3",
   "metadata": {},
   "source": [
    "#  Data Audit"
   ]
  },
  {
   "cell_type": "code",
   "execution_count": 6,
   "id": "f78d5649",
   "metadata": {},
   "outputs": [
    {
     "data": {
      "text/html": [
       "<div>\n",
       "<style scoped>\n",
       "    .dataframe tbody tr th:only-of-type {\n",
       "        vertical-align: middle;\n",
       "    }\n",
       "\n",
       "    .dataframe tbody tr th {\n",
       "        vertical-align: top;\n",
       "    }\n",
       "\n",
       "    .dataframe thead th {\n",
       "        text-align: right;\n",
       "    }\n",
       "</style>\n",
       "<table border=\"1\" class=\"dataframe\">\n",
       "  <thead>\n",
       "    <tr style=\"text-align: right;\">\n",
       "      <th></th>\n",
       "      <th>Product_id</th>\n",
       "      <th>BrandName</th>\n",
       "      <th>Category</th>\n",
       "      <th>Individual_category</th>\n",
       "      <th>category_by_Gender</th>\n",
       "      <th>DiscountPrice (in Rs)</th>\n",
       "      <th>OriginalPrice (in Rs)</th>\n",
       "      <th>DiscountOffer</th>\n",
       "      <th>SizeOption</th>\n",
       "      <th>Ratings</th>\n",
       "      <th>Reviews</th>\n",
       "      <th>ORDERDATE</th>\n",
       "      <th>STATUS</th>\n",
       "      <th>QUANTITYORDERED</th>\n",
       "      <th>SALES</th>\n",
       "      <th>PRODUCTLINE</th>\n",
       "      <th>DEALSIZE</th>\n",
       "    </tr>\n",
       "  </thead>\n",
       "  <tbody>\n",
       "    <tr>\n",
       "      <th>0</th>\n",
       "      <td>2296012</td>\n",
       "      <td>Roadster</td>\n",
       "      <td>Bottom Wear</td>\n",
       "      <td>jeans</td>\n",
       "      <td>Men</td>\n",
       "      <td>824.0</td>\n",
       "      <td>1499</td>\n",
       "      <td>45% OFF</td>\n",
       "      <td>28, 30, 32, 34, 36</td>\n",
       "      <td>3.9</td>\n",
       "      <td>999</td>\n",
       "      <td>2/24/2020 0:00</td>\n",
       "      <td>Shipped</td>\n",
       "      <td>30</td>\n",
       "      <td>2871.00</td>\n",
       "      <td>Motorcycles</td>\n",
       "      <td>Small</td>\n",
       "    </tr>\n",
       "    <tr>\n",
       "      <th>1</th>\n",
       "      <td>13780156</td>\n",
       "      <td>LOCOMOTIVE</td>\n",
       "      <td>Bottom Wear</td>\n",
       "      <td>track-pants</td>\n",
       "      <td>Men</td>\n",
       "      <td>517.0</td>\n",
       "      <td>1149</td>\n",
       "      <td>55% OFF</td>\n",
       "      <td>S, M, L, XL</td>\n",
       "      <td>4.0</td>\n",
       "      <td>999</td>\n",
       "      <td>05-07-2020 00:00</td>\n",
       "      <td>Shipped</td>\n",
       "      <td>34</td>\n",
       "      <td>2765.90</td>\n",
       "      <td>Motorcycles</td>\n",
       "      <td>Small</td>\n",
       "    </tr>\n",
       "    <tr>\n",
       "      <th>2</th>\n",
       "      <td>11895958</td>\n",
       "      <td>Roadster</td>\n",
       "      <td>Topwear</td>\n",
       "      <td>shirts</td>\n",
       "      <td>Men</td>\n",
       "      <td>629.0</td>\n",
       "      <td>1399</td>\n",
       "      <td>55% OFF</td>\n",
       "      <td>38, 40, 42, 44, 46, 48</td>\n",
       "      <td>4.3</td>\n",
       "      <td>999</td>\n",
       "      <td>07-01-2020 00:00</td>\n",
       "      <td>Shipped</td>\n",
       "      <td>41</td>\n",
       "      <td>3884.34</td>\n",
       "      <td>Motorcycles</td>\n",
       "      <td>Medium</td>\n",
       "    </tr>\n",
       "    <tr>\n",
       "      <th>3</th>\n",
       "      <td>4335679</td>\n",
       "      <td>Zivame</td>\n",
       "      <td>Lingerie &amp; Sleep Wear</td>\n",
       "      <td>shapewear</td>\n",
       "      <td>Women</td>\n",
       "      <td>893.0</td>\n",
       "      <td>1295</td>\n",
       "      <td>31% OFF</td>\n",
       "      <td>S, M, L, XL, XXL</td>\n",
       "      <td>4.2</td>\n",
       "      <td>999</td>\n",
       "      <td>8/25/2020 0:00</td>\n",
       "      <td>Shipped</td>\n",
       "      <td>45</td>\n",
       "      <td>3746.70</td>\n",
       "      <td>Motorcycles</td>\n",
       "      <td>Medium</td>\n",
       "    </tr>\n",
       "    <tr>\n",
       "      <th>4</th>\n",
       "      <td>11690882</td>\n",
       "      <td>Roadster</td>\n",
       "      <td>Western</td>\n",
       "      <td>tshirts</td>\n",
       "      <td>Women</td>\n",
       "      <td>NaN</td>\n",
       "      <td>599</td>\n",
       "      <td>35% OFF</td>\n",
       "      <td>XS, S, M, L, XL</td>\n",
       "      <td>4.2</td>\n",
       "      <td>999</td>\n",
       "      <td>10-10-2020 00:00</td>\n",
       "      <td>Shipped</td>\n",
       "      <td>49</td>\n",
       "      <td>5205.27</td>\n",
       "      <td>Motorcycles</td>\n",
       "      <td>Medium</td>\n",
       "    </tr>\n",
       "  </tbody>\n",
       "</table>\n",
       "</div>"
      ],
      "text/plain": [
       "   Product_id   BrandName               Category Individual_category  \\\n",
       "0     2296012    Roadster            Bottom Wear               jeans   \n",
       "1    13780156  LOCOMOTIVE            Bottom Wear         track-pants   \n",
       "2    11895958    Roadster                Topwear              shirts   \n",
       "3     4335679      Zivame  Lingerie & Sleep Wear           shapewear   \n",
       "4    11690882    Roadster                Western             tshirts   \n",
       "\n",
       "  category_by_Gender  DiscountPrice (in Rs)  OriginalPrice (in Rs)  \\\n",
       "0                Men                  824.0                   1499   \n",
       "1                Men                  517.0                   1149   \n",
       "2                Men                  629.0                   1399   \n",
       "3              Women                  893.0                   1295   \n",
       "4              Women                    NaN                    599   \n",
       "\n",
       "  DiscountOffer              SizeOption  Ratings  Reviews         ORDERDATE  \\\n",
       "0       45% OFF      28, 30, 32, 34, 36      3.9      999    2/24/2020 0:00   \n",
       "1       55% OFF             S, M, L, XL      4.0      999  05-07-2020 00:00   \n",
       "2       55% OFF  38, 40, 42, 44, 46, 48      4.3      999  07-01-2020 00:00   \n",
       "3       31% OFF        S, M, L, XL, XXL      4.2      999    8/25/2020 0:00   \n",
       "4       35% OFF         XS, S, M, L, XL      4.2      999  10-10-2020 00:00   \n",
       "\n",
       "    STATUS  QUANTITYORDERED    SALES  PRODUCTLINE DEALSIZE  \n",
       "0  Shipped               30  2871.00  Motorcycles    Small  \n",
       "1  Shipped               34  2765.90  Motorcycles    Small  \n",
       "2  Shipped               41  3884.34  Motorcycles   Medium  \n",
       "3  Shipped               45  3746.70  Motorcycles   Medium  \n",
       "4  Shipped               49  5205.27  Motorcycles   Medium  "
      ]
     },
     "execution_count": 6,
     "metadata": {},
     "output_type": "execute_result"
    }
   ],
   "source": [
    "## first five row of the dataset\n",
    "df.head()"
   ]
  },
  {
   "cell_type": "code",
   "execution_count": 7,
   "id": "df03173d",
   "metadata": {},
   "outputs": [
    {
     "data": {
      "text/html": [
       "<div>\n",
       "<style scoped>\n",
       "    .dataframe tbody tr th:only-of-type {\n",
       "        vertical-align: middle;\n",
       "    }\n",
       "\n",
       "    .dataframe tbody tr th {\n",
       "        vertical-align: top;\n",
       "    }\n",
       "\n",
       "    .dataframe thead th {\n",
       "        text-align: right;\n",
       "    }\n",
       "</style>\n",
       "<table border=\"1\" class=\"dataframe\">\n",
       "  <thead>\n",
       "    <tr style=\"text-align: right;\">\n",
       "      <th></th>\n",
       "      <th>Product_id</th>\n",
       "      <th>BrandName</th>\n",
       "      <th>Category</th>\n",
       "      <th>Individual_category</th>\n",
       "      <th>category_by_Gender</th>\n",
       "      <th>DiscountPrice (in Rs)</th>\n",
       "      <th>OriginalPrice (in Rs)</th>\n",
       "      <th>DiscountOffer</th>\n",
       "      <th>SizeOption</th>\n",
       "      <th>Ratings</th>\n",
       "      <th>Reviews</th>\n",
       "      <th>ORDERDATE</th>\n",
       "      <th>STATUS</th>\n",
       "      <th>QUANTITYORDERED</th>\n",
       "      <th>SALES</th>\n",
       "      <th>PRODUCTLINE</th>\n",
       "      <th>DEALSIZE</th>\n",
       "    </tr>\n",
       "  </thead>\n",
       "  <tbody>\n",
       "    <tr>\n",
       "      <th>994</th>\n",
       "      <td>13641440</td>\n",
       "      <td>Tokyo Talkies</td>\n",
       "      <td>Western</td>\n",
       "      <td>jeans</td>\n",
       "      <td>Women</td>\n",
       "      <td>NaN</td>\n",
       "      <td>1899</td>\n",
       "      <td>59% OFF</td>\n",
       "      <td>28, 30, 32, 34</td>\n",
       "      <td>4.0</td>\n",
       "      <td>827</td>\n",
       "      <td>11-07-2020 00:00</td>\n",
       "      <td>Shipped</td>\n",
       "      <td>23</td>\n",
       "      <td>3675.63</td>\n",
       "      <td>Vintage Cars</td>\n",
       "      <td>Medium</td>\n",
       "    </tr>\n",
       "    <tr>\n",
       "      <th>995</th>\n",
       "      <td>13676452</td>\n",
       "      <td>VIMAL</td>\n",
       "      <td>Inner Wear &amp;  Sleep Wear</td>\n",
       "      <td>lounge-pants</td>\n",
       "      <td>Men</td>\n",
       "      <td>988.0</td>\n",
       "      <td>1798</td>\n",
       "      <td>45% OFF</td>\n",
       "      <td>S, M, L, XL, XXL</td>\n",
       "      <td>4.1</td>\n",
       "      <td>826</td>\n",
       "      <td>11/14/2020 0:00</td>\n",
       "      <td>Shipped</td>\n",
       "      <td>28</td>\n",
       "      <td>3442.04</td>\n",
       "      <td>Vintage Cars</td>\n",
       "      <td>Medium</td>\n",
       "    </tr>\n",
       "    <tr>\n",
       "      <th>996</th>\n",
       "      <td>6825447</td>\n",
       "      <td>HRX by Hrithik Roshan</td>\n",
       "      <td>Sports Wear</td>\n",
       "      <td>tshirts</td>\n",
       "      <td>Men</td>\n",
       "      <td>539.0</td>\n",
       "      <td>899</td>\n",
       "      <td>40% OFF</td>\n",
       "      <td>S, M, L, XL, XXL</td>\n",
       "      <td>4.2</td>\n",
       "      <td>826</td>\n",
       "      <td>11/26/2020 0:00</td>\n",
       "      <td>Shipped</td>\n",
       "      <td>49</td>\n",
       "      <td>6893.81</td>\n",
       "      <td>Vintage Cars</td>\n",
       "      <td>Medium</td>\n",
       "    </tr>\n",
       "    <tr>\n",
       "      <th>997</th>\n",
       "      <td>5523552</td>\n",
       "      <td>LOCOMOTIVE</td>\n",
       "      <td>Topwear</td>\n",
       "      <td>shirts</td>\n",
       "      <td>Men</td>\n",
       "      <td>593.0</td>\n",
       "      <td>1799</td>\n",
       "      <td>67% OFF</td>\n",
       "      <td>39, 40, 42, 44</td>\n",
       "      <td>4.1</td>\n",
       "      <td>826</td>\n",
       "      <td>01-02-2021 00:00</td>\n",
       "      <td>Shipped</td>\n",
       "      <td>24</td>\n",
       "      <td>2622.48</td>\n",
       "      <td>Vintage Cars</td>\n",
       "      <td>Small</td>\n",
       "    </tr>\n",
       "    <tr>\n",
       "      <th>998</th>\n",
       "      <td>8979975</td>\n",
       "      <td>HERE&amp;NOW</td>\n",
       "      <td>Topwear</td>\n",
       "      <td>shirts</td>\n",
       "      <td>Men</td>\n",
       "      <td>1181.0</td>\n",
       "      <td>2149</td>\n",
       "      <td>45% OFF</td>\n",
       "      <td>38, 40, 42, 44, 46</td>\n",
       "      <td>4.3</td>\n",
       "      <td>826</td>\n",
       "      <td>2/18/2021 0:00</td>\n",
       "      <td>Shipped</td>\n",
       "      <td>33</td>\n",
       "      <td>4417.38</td>\n",
       "      <td>Vintage Cars</td>\n",
       "      <td>Medium</td>\n",
       "    </tr>\n",
       "  </tbody>\n",
       "</table>\n",
       "</div>"
      ],
      "text/plain": [
       "     Product_id              BrandName                  Category  \\\n",
       "994    13641440          Tokyo Talkies                   Western   \n",
       "995    13676452                  VIMAL  Inner Wear &  Sleep Wear   \n",
       "996     6825447  HRX by Hrithik Roshan               Sports Wear   \n",
       "997     5523552             LOCOMOTIVE                   Topwear   \n",
       "998     8979975               HERE&NOW                   Topwear   \n",
       "\n",
       "    Individual_category category_by_Gender  DiscountPrice (in Rs)  \\\n",
       "994               jeans              Women                    NaN   \n",
       "995        lounge-pants                Men                  988.0   \n",
       "996             tshirts                Men                  539.0   \n",
       "997              shirts                Men                  593.0   \n",
       "998              shirts                Men                 1181.0   \n",
       "\n",
       "     OriginalPrice (in Rs) DiscountOffer          SizeOption  Ratings  \\\n",
       "994                   1899       59% OFF      28, 30, 32, 34      4.0   \n",
       "995                   1798       45% OFF    S, M, L, XL, XXL      4.1   \n",
       "996                    899       40% OFF    S, M, L, XL, XXL      4.2   \n",
       "997                   1799       67% OFF      39, 40, 42, 44      4.1   \n",
       "998                   2149       45% OFF  38, 40, 42, 44, 46      4.3   \n",
       "\n",
       "     Reviews         ORDERDATE   STATUS  QUANTITYORDERED    SALES  \\\n",
       "994      827  11-07-2020 00:00  Shipped               23  3675.63   \n",
       "995      826   11/14/2020 0:00  Shipped               28  3442.04   \n",
       "996      826   11/26/2020 0:00  Shipped               49  6893.81   \n",
       "997      826  01-02-2021 00:00  Shipped               24  2622.48   \n",
       "998      826    2/18/2021 0:00  Shipped               33  4417.38   \n",
       "\n",
       "      PRODUCTLINE DEALSIZE  \n",
       "994  Vintage Cars   Medium  \n",
       "995  Vintage Cars   Medium  \n",
       "996  Vintage Cars   Medium  \n",
       "997  Vintage Cars    Small  \n",
       "998  Vintage Cars   Medium  "
      ]
     },
     "execution_count": 7,
     "metadata": {},
     "output_type": "execute_result"
    }
   ],
   "source": [
    "# last five row of the dataset\n",
    "df.tail()"
   ]
  },
  {
   "cell_type": "code",
   "execution_count": 8,
   "id": "eff3554a",
   "metadata": {},
   "outputs": [
    {
     "data": {
      "text/plain": [
       "(999, 17)"
      ]
     },
     "execution_count": 8,
     "metadata": {},
     "output_type": "execute_result"
    }
   ],
   "source": [
    "# shape of the dataset\n",
    "df.shape"
   ]
  },
  {
   "cell_type": "code",
   "execution_count": 9,
   "id": "be749e43",
   "metadata": {},
   "outputs": [
    {
     "data": {
      "text/plain": [
       "Index(['Product_id', 'BrandName', 'Category', 'Individual_category',\n",
       "       'category_by_Gender', 'DiscountPrice (in Rs)', 'OriginalPrice (in Rs)',\n",
       "       'DiscountOffer', 'SizeOption', 'Ratings', 'Reviews', 'ORDERDATE',\n",
       "       'STATUS', 'QUANTITYORDERED', 'SALES', 'PRODUCTLINE', 'DEALSIZE'],\n",
       "      dtype='object')"
      ]
     },
     "execution_count": 9,
     "metadata": {},
     "output_type": "execute_result"
    }
   ],
   "source": [
    "# columns in the dataset\n",
    "df.columns"
   ]
  },
  {
   "cell_type": "code",
   "execution_count": 10,
   "id": "69a6d69e",
   "metadata": {},
   "outputs": [
    {
     "data": {
      "text/plain": [
       "16983"
      ]
     },
     "execution_count": 10,
     "metadata": {},
     "output_type": "execute_result"
    }
   ],
   "source": [
    "# display the size of the dataset\n",
    "df.size"
   ]
  },
  {
   "cell_type": "code",
   "execution_count": 11,
   "id": "11c24fe2",
   "metadata": {},
   "outputs": [
    {
     "name": "stdout",
     "output_type": "stream",
     "text": [
      "<class 'pandas.core.frame.DataFrame'>\n",
      "RangeIndex: 999 entries, 0 to 998\n",
      "Data columns (total 17 columns):\n",
      " #   Column                 Non-Null Count  Dtype  \n",
      "---  ------                 --------------  -----  \n",
      " 0   Product_id             999 non-null    int64  \n",
      " 1   BrandName              999 non-null    object \n",
      " 2   Category               999 non-null    object \n",
      " 3   Individual_category    999 non-null    object \n",
      " 4   category_by_Gender     999 non-null    object \n",
      " 5   DiscountPrice (in Rs)  561 non-null    float64\n",
      " 6   OriginalPrice (in Rs)  999 non-null    int64  \n",
      " 7   DiscountOffer          905 non-null    object \n",
      " 8   SizeOption             999 non-null    object \n",
      " 9   Ratings                985 non-null    float64\n",
      " 10  Reviews                999 non-null    int64  \n",
      " 11  ORDERDATE              999 non-null    object \n",
      " 12  STATUS                 999 non-null    object \n",
      " 13  QUANTITYORDERED        999 non-null    int64  \n",
      " 14  SALES                  999 non-null    float64\n",
      " 15  PRODUCTLINE            999 non-null    object \n",
      " 16  DEALSIZE               999 non-null    object \n",
      "dtypes: float64(3), int64(4), object(10)\n",
      "memory usage: 132.8+ KB\n"
     ]
    }
   ],
   "source": [
    "# summary of the dataset\n",
    "df.info()"
   ]
  },
  {
   "cell_type": "code",
   "execution_count": null,
   "id": "822bee8a",
   "metadata": {},
   "outputs": [],
   "source": [
    "# The data shows that the float(3) ,int(4) and object(10) columns are available in the given dataset"
   ]
  },
  {
   "cell_type": "markdown",
   "id": "38f294a4",
   "metadata": {},
   "source": [
    "# checking missing values"
   ]
  },
  {
   "cell_type": "code",
   "execution_count": 13,
   "id": "e0cb3c39",
   "metadata": {},
   "outputs": [
    {
     "data": {
      "text/plain": [
       "Product_id                 0\n",
       "BrandName                  0\n",
       "Category                   0\n",
       "Individual_category        0\n",
       "category_by_Gender         0\n",
       "DiscountPrice (in Rs)    438\n",
       "OriginalPrice (in Rs)      0\n",
       "DiscountOffer             94\n",
       "SizeOption                 0\n",
       "Ratings                   14\n",
       "Reviews                    0\n",
       "ORDERDATE                  0\n",
       "STATUS                     0\n",
       "QUANTITYORDERED            0\n",
       "SALES                      0\n",
       "PRODUCTLINE                0\n",
       "DEALSIZE                   0\n",
       "dtype: int64"
      ]
     },
     "execution_count": 13,
     "metadata": {},
     "output_type": "execute_result"
    }
   ],
   "source": [
    "\n",
    "df.isnull().sum()"
   ]
  },
  {
   "cell_type": "code",
   "execution_count": null,
   "id": "ad8a90b6",
   "metadata": {},
   "outputs": [],
   "source": [
    "# the data shows that the 436 (DiscountPrice (in Rs)) , 14 (Ratings) and 94 (DiscountOffer) null values are available."
   ]
  },
  {
   "cell_type": "markdown",
   "id": "b373a9e6",
   "metadata": {},
   "source": [
    "# Handling missing values"
   ]
  },
  {
   "cell_type": "code",
   "execution_count": 57,
   "id": "b845dfad",
   "metadata": {},
   "outputs": [
    {
     "name": "stdout",
     "output_type": "stream",
     "text": [
      "4.3\n"
     ]
    }
   ],
   "source": [
    "mode=df['Ratings'].mode()\n",
    "print(mode[0])"
   ]
  },
  {
   "cell_type": "code",
   "execution_count": 58,
   "id": "f9a2e607",
   "metadata": {},
   "outputs": [],
   "source": [
    "df['Ratings']=df['Ratings'].fillna(mode[0])"
   ]
  },
  {
   "cell_type": "code",
   "execution_count": 66,
   "id": "c45f9d04",
   "metadata": {},
   "outputs": [
    {
     "data": {
      "text/plain": [
       "0    699.0\n",
       "dtype: float64"
      ]
     },
     "execution_count": 66,
     "metadata": {},
     "output_type": "execute_result"
    }
   ],
   "source": [
    "mode2=df['DiscountPrice (in Rs)'].mode()\n",
    "mode2"
   ]
  },
  {
   "cell_type": "code",
   "execution_count": 67,
   "id": "a16b5a53",
   "metadata": {},
   "outputs": [],
   "source": [
    "df['DiscountPrice (in Rs)']=df['DiscountPrice (in Rs)'].fillna(df['DiscountPrice (in Rs)'].fillna(mode2[0]))"
   ]
  },
  {
   "cell_type": "code",
   "execution_count": 69,
   "id": "0f9f8248",
   "metadata": {},
   "outputs": [
    {
     "data": {
      "text/plain": [
       "0    50% OFF\n",
       "dtype: object"
      ]
     },
     "execution_count": 69,
     "metadata": {},
     "output_type": "execute_result"
    }
   ],
   "source": [
    "mode1=df['DiscountOffer'].mode()\n",
    "mode1"
   ]
  },
  {
   "cell_type": "code",
   "execution_count": 70,
   "id": "c02b8ceb",
   "metadata": {},
   "outputs": [],
   "source": [
    "df['DiscountOffer']=df['DiscountOffer'].fillna(df['DiscountOffer'].fillna(mode1[0]))\n",
    "\n"
   ]
  },
  {
   "cell_type": "code",
   "execution_count": 71,
   "id": "cc75c598",
   "metadata": {},
   "outputs": [
    {
     "data": {
      "text/plain": [
       "Product_id               0\n",
       "BrandName                0\n",
       "Category                 0\n",
       "Individual_category      0\n",
       "category_by_Gender       0\n",
       "DiscountPrice (in Rs)    0\n",
       "OriginalPrice (in Rs)    0\n",
       "DiscountOffer            0\n",
       "SizeOption               0\n",
       "Ratings                  0\n",
       "Reviews                  0\n",
       "ORDERDATE                0\n",
       "STATUS                   0\n",
       "QUANTITYORDERED          0\n",
       "SALES                    0\n",
       "PRODUCTLINE              0\n",
       "DEALSIZE                 0\n",
       "dtype: int64"
      ]
     },
     "execution_count": 71,
     "metadata": {},
     "output_type": "execute_result"
    }
   ],
   "source": [
    "df.isnull().sum()"
   ]
  },
  {
   "cell_type": "markdown",
   "id": "d184f803",
   "metadata": {},
   "source": [
    "## descriptive statistics data"
   ]
  },
  {
   "cell_type": "code",
   "execution_count": 64,
   "id": "1a031c3b",
   "metadata": {},
   "outputs": [
    {
     "data": {
      "text/html": [
       "<div>\n",
       "<style scoped>\n",
       "    .dataframe tbody tr th:only-of-type {\n",
       "        vertical-align: middle;\n",
       "    }\n",
       "\n",
       "    .dataframe tbody tr th {\n",
       "        vertical-align: top;\n",
       "    }\n",
       "\n",
       "    .dataframe thead th {\n",
       "        text-align: right;\n",
       "    }\n",
       "</style>\n",
       "<table border=\"1\" class=\"dataframe\">\n",
       "  <thead>\n",
       "    <tr style=\"text-align: right;\">\n",
       "      <th></th>\n",
       "      <th>Product_id</th>\n",
       "      <th>DiscountPrice (in Rs)</th>\n",
       "      <th>OriginalPrice (in Rs)</th>\n",
       "      <th>Ratings</th>\n",
       "      <th>Reviews</th>\n",
       "      <th>QUANTITYORDERED</th>\n",
       "      <th>SALES</th>\n",
       "    </tr>\n",
       "  </thead>\n",
       "  <tbody>\n",
       "    <tr>\n",
       "      <th>count</th>\n",
       "      <td>9.990000e+02</td>\n",
       "      <td>999.000000</td>\n",
       "      <td>999.000000</td>\n",
       "      <td>999.000000</td>\n",
       "      <td>999.000000</td>\n",
       "      <td>999.000000</td>\n",
       "      <td>999.000000</td>\n",
       "    </tr>\n",
       "    <tr>\n",
       "      <th>mean</th>\n",
       "      <td>9.645800e+06</td>\n",
       "      <td>748.727728</td>\n",
       "      <td>1645.514515</td>\n",
       "      <td>4.153954</td>\n",
       "      <td>907.245245</td>\n",
       "      <td>35.062062</td>\n",
       "      <td>4224.952573</td>\n",
       "    </tr>\n",
       "    <tr>\n",
       "      <th>std</th>\n",
       "      <td>4.237290e+06</td>\n",
       "      <td>301.177249</td>\n",
       "      <td>889.525209</td>\n",
       "      <td>0.209211</td>\n",
       "      <td>49.653135</td>\n",
       "      <td>9.789782</td>\n",
       "      <td>2041.902803</td>\n",
       "    </tr>\n",
       "    <tr>\n",
       "      <th>min</th>\n",
       "      <td>2.750200e+04</td>\n",
       "      <td>159.000000</td>\n",
       "      <td>259.000000</td>\n",
       "      <td>3.200000</td>\n",
       "      <td>826.000000</td>\n",
       "      <td>6.000000</td>\n",
       "      <td>728.400000</td>\n",
       "    </tr>\n",
       "    <tr>\n",
       "      <th>25%</th>\n",
       "      <td>7.695816e+06</td>\n",
       "      <td>659.000000</td>\n",
       "      <td>1073.500000</td>\n",
       "      <td>4.000000</td>\n",
       "      <td>864.000000</td>\n",
       "      <td>27.000000</td>\n",
       "      <td>2706.620000</td>\n",
       "    </tr>\n",
       "    <tr>\n",
       "      <th>50%</th>\n",
       "      <td>1.060450e+07</td>\n",
       "      <td>699.000000</td>\n",
       "      <td>1499.000000</td>\n",
       "      <td>4.200000</td>\n",
       "      <td>904.000000</td>\n",
       "      <td>34.000000</td>\n",
       "      <td>3854.240000</td>\n",
       "    </tr>\n",
       "    <tr>\n",
       "      <th>75%</th>\n",
       "      <td>1.211957e+07</td>\n",
       "      <td>729.000000</td>\n",
       "      <td>1999.000000</td>\n",
       "      <td>4.300000</td>\n",
       "      <td>950.000000</td>\n",
       "      <td>43.000000</td>\n",
       "      <td>5434.695000</td>\n",
       "    </tr>\n",
       "    <tr>\n",
       "      <th>max</th>\n",
       "      <td>1.797746e+07</td>\n",
       "      <td>2939.000000</td>\n",
       "      <td>6999.000000</td>\n",
       "      <td>4.700000</td>\n",
       "      <td>999.000000</td>\n",
       "      <td>97.000000</td>\n",
       "      <td>14082.800000</td>\n",
       "    </tr>\n",
       "  </tbody>\n",
       "</table>\n",
       "</div>"
      ],
      "text/plain": [
       "         Product_id  DiscountPrice (in Rs)  OriginalPrice (in Rs)     Ratings  \\\n",
       "count  9.990000e+02             999.000000             999.000000  999.000000   \n",
       "mean   9.645800e+06             748.727728            1645.514515    4.153954   \n",
       "std    4.237290e+06             301.177249             889.525209    0.209211   \n",
       "min    2.750200e+04             159.000000             259.000000    3.200000   \n",
       "25%    7.695816e+06             659.000000            1073.500000    4.000000   \n",
       "50%    1.060450e+07             699.000000            1499.000000    4.200000   \n",
       "75%    1.211957e+07             729.000000            1999.000000    4.300000   \n",
       "max    1.797746e+07            2939.000000            6999.000000    4.700000   \n",
       "\n",
       "          Reviews  QUANTITYORDERED         SALES  \n",
       "count  999.000000       999.000000    999.000000  \n",
       "mean   907.245245        35.062062   4224.952573  \n",
       "std     49.653135         9.789782   2041.902803  \n",
       "min    826.000000         6.000000    728.400000  \n",
       "25%    864.000000        27.000000   2706.620000  \n",
       "50%    904.000000        34.000000   3854.240000  \n",
       "75%    950.000000        43.000000   5434.695000  \n",
       "max    999.000000        97.000000  14082.800000  "
      ]
     },
     "execution_count": 64,
     "metadata": {},
     "output_type": "execute_result"
    }
   ],
   "source": [
    "\n",
    "df.describe()"
   ]
  },
  {
   "cell_type": "code",
   "execution_count": null,
   "id": "5bdb8104",
   "metadata": {},
   "outputs": [],
   "source": [
    "## The data shows that the mean is greater than the median  it means that it is a right skewed ( positively skewed).\n",
    "## There are 999 records are avaialble in the dataset.\n",
    "## The highest Rating count is 4.7 and the highest Reviews count is 950.\n",
    "## The highest quantity order count is 97.\n",
    "## The maximum sales avg is 14082.\n",
    "## The maximum discount price is 2939."
   ]
  },
  {
   "cell_type": "markdown",
   "id": "63cb1181",
   "metadata": {},
   "source": [
    "# To check the distribution of the data"
   ]
  },
  {
   "cell_type": "code",
   "execution_count": 17,
   "id": "daedcbc6",
   "metadata": {},
   "outputs": [
    {
     "data": {
      "text/plain": [
       "<AxesSubplot:xlabel='SALES', ylabel='Density'>"
      ]
     },
     "execution_count": 17,
     "metadata": {},
     "output_type": "execute_result"
    },
    {
     "data": {
      "image/png": "[encoded data removed]",
      "text/plain": [
       "<Figure size 432x288 with 1 Axes>"
      ]
     },
     "metadata": {
      "needs_background": "light"
     },
     "output_type": "display_data"
    }
   ],
   "source": [
    "sns.distplot(df['SALES'],kde=True)"
   ]
  },
  {
   "cell_type": "code",
   "execution_count": null,
   "id": "c30c648d",
   "metadata": {},
   "outputs": [],
   "source": [
    "## plot shows that the data is positively skewed.\n",
    "## plot shows that the data is right skewed it means that positively distributed."
   ]
  },
  {
   "cell_type": "code",
   "execution_count": 19,
   "id": "ba276d30",
   "metadata": {},
   "outputs": [
    {
     "data": {
      "text/html": [
       "<div>\n",
       "<style scoped>\n",
       "    .dataframe tbody tr th:only-of-type {\n",
       "        vertical-align: middle;\n",
       "    }\n",
       "\n",
       "    .dataframe tbody tr th {\n",
       "        vertical-align: top;\n",
       "    }\n",
       "\n",
       "    .dataframe thead th {\n",
       "        text-align: right;\n",
       "    }\n",
       "</style>\n",
       "<table border=\"1\" class=\"dataframe\">\n",
       "  <thead>\n",
       "    <tr style=\"text-align: right;\">\n",
       "      <th></th>\n",
       "      <th>BrandName</th>\n",
       "      <th>Category</th>\n",
       "      <th>Individual_category</th>\n",
       "      <th>category_by_Gender</th>\n",
       "      <th>DiscountOffer</th>\n",
       "      <th>SizeOption</th>\n",
       "      <th>ORDERDATE</th>\n",
       "      <th>STATUS</th>\n",
       "      <th>PRODUCTLINE</th>\n",
       "      <th>DEALSIZE</th>\n",
       "    </tr>\n",
       "  </thead>\n",
       "  <tbody>\n",
       "    <tr>\n",
       "      <th>count</th>\n",
       "      <td>999</td>\n",
       "      <td>999</td>\n",
       "      <td>999</td>\n",
       "      <td>999</td>\n",
       "      <td>905</td>\n",
       "      <td>999</td>\n",
       "      <td>999</td>\n",
       "      <td>999</td>\n",
       "      <td>999</td>\n",
       "      <td>999</td>\n",
       "    </tr>\n",
       "    <tr>\n",
       "      <th>unique</th>\n",
       "      <td>141</td>\n",
       "      <td>8</td>\n",
       "      <td>36</td>\n",
       "      <td>2</td>\n",
       "      <td>71</td>\n",
       "      <td>66</td>\n",
       "      <td>290</td>\n",
       "      <td>6</td>\n",
       "      <td>6</td>\n",
       "      <td>3</td>\n",
       "    </tr>\n",
       "    <tr>\n",
       "      <th>top</th>\n",
       "      <td>Roadster</td>\n",
       "      <td>Western</td>\n",
       "      <td>tshirts</td>\n",
       "      <td>Women</td>\n",
       "      <td>50% OFF</td>\n",
       "      <td>XS, S, M, L, XL</td>\n",
       "      <td>11-04-2021 00:00</td>\n",
       "      <td>Shipped</td>\n",
       "      <td>Classic Cars</td>\n",
       "      <td>Medium</td>\n",
       "    </tr>\n",
       "    <tr>\n",
       "      <th>freq</th>\n",
       "      <td>218</td>\n",
       "      <td>365</td>\n",
       "      <td>212</td>\n",
       "      <td>644</td>\n",
       "      <td>170</td>\n",
       "      <td>154</td>\n",
       "      <td>18</td>\n",
       "      <td>935</td>\n",
       "      <td>418</td>\n",
       "      <td>581</td>\n",
       "    </tr>\n",
       "  </tbody>\n",
       "</table>\n",
       "</div>"
      ],
      "text/plain": [
       "       BrandName Category Individual_category category_by_Gender  \\\n",
       "count        999      999                 999                999   \n",
       "unique       141        8                  36                  2   \n",
       "top     Roadster  Western             tshirts              Women   \n",
       "freq         218      365                 212                644   \n",
       "\n",
       "       DiscountOffer       SizeOption         ORDERDATE   STATUS  \\\n",
       "count            905              999               999      999   \n",
       "unique            71               66               290        6   \n",
       "top          50% OFF  XS, S, M, L, XL  11-04-2021 00:00  Shipped   \n",
       "freq             170              154                18      935   \n",
       "\n",
       "         PRODUCTLINE DEALSIZE  \n",
       "count            999      999  \n",
       "unique             6        3  \n",
       "top     Classic Cars   Medium  \n",
       "freq             418      581  "
      ]
     },
     "execution_count": 19,
     "metadata": {},
     "output_type": "execute_result"
    }
   ],
   "source": [
    "df.describe(include=\"O\")"
   ]
  },
  {
   "cell_type": "code",
   "execution_count": null,
   "id": "02f5567c",
   "metadata": {},
   "outputs": [],
   "source": [
    "# The data shows that the roadster brandname's western(tshirt) category with medium size buyed more from the womens. "
   ]
  },
  {
   "cell_type": "markdown",
   "id": "e3998381",
   "metadata": {},
   "source": [
    "# The counts of the BrandName"
   ]
  },
  {
   "cell_type": "code",
   "execution_count": 20,
   "id": "87bab30a",
   "metadata": {},
   "outputs": [
    {
     "data": {
      "text/plain": [
       "Roadster                 218\n",
       "HRX by Hrithik Roshan     51\n",
       "Mast & Harbour            48\n",
       "HERE&NOW                  48\n",
       "HIGHLANDER                45\n",
       "                        ... \n",
       "one8 by Virat Kohli        1\n",
       "Laceandme                  1\n",
       "Rosaline by Zivame         1\n",
       "Bhama Couture              1\n",
       "Boston Club                1\n",
       "Name: BrandName, Length: 141, dtype: int64"
      ]
     },
     "execution_count": 20,
     "metadata": {},
     "output_type": "execute_result"
    }
   ],
   "source": [
    "# frequency of each column\n",
    "df['BrandName'].value_counts()"
   ]
  },
  {
   "cell_type": "code",
   "execution_count": null,
   "id": "c4aaa8f9",
   "metadata": {},
   "outputs": [],
   "source": [
    "# The data gives the individual brandname and its over all  counts.\n",
    "# The highest Brandname is Roadster."
   ]
  },
  {
   "cell_type": "markdown",
   "id": "d5012403",
   "metadata": {},
   "source": [
    "# Which are the top  product by sales"
   ]
  },
  {
   "cell_type": "code",
   "execution_count": 21,
   "id": "36bb66cb",
   "metadata": {},
   "outputs": [],
   "source": [
    "product_name=pd.DataFrame(df.groupby('Category').sum('SALES'))\n"
   ]
  },
  {
   "cell_type": "code",
   "execution_count": 22,
   "id": "9717a8ba",
   "metadata": {},
   "outputs": [
    {
     "data": {
      "text/html": [
       "<div>\n",
       "<style scoped>\n",
       "    .dataframe tbody tr th:only-of-type {\n",
       "        vertical-align: middle;\n",
       "    }\n",
       "\n",
       "    .dataframe tbody tr th {\n",
       "        vertical-align: top;\n",
       "    }\n",
       "\n",
       "    .dataframe thead th {\n",
       "        text-align: right;\n",
       "    }\n",
       "</style>\n",
       "<table border=\"1\" class=\"dataframe\">\n",
       "  <thead>\n",
       "    <tr style=\"text-align: right;\">\n",
       "      <th></th>\n",
       "      <th>Product_id</th>\n",
       "      <th>DiscountPrice (in Rs)</th>\n",
       "      <th>OriginalPrice (in Rs)</th>\n",
       "      <th>Ratings</th>\n",
       "      <th>Reviews</th>\n",
       "      <th>QUANTITYORDERED</th>\n",
       "      <th>SALES</th>\n",
       "    </tr>\n",
       "    <tr>\n",
       "      <th>Category</th>\n",
       "      <th></th>\n",
       "      <th></th>\n",
       "      <th></th>\n",
       "      <th></th>\n",
       "      <th></th>\n",
       "      <th></th>\n",
       "      <th></th>\n",
       "    </tr>\n",
       "  </thead>\n",
       "  <tbody>\n",
       "    <tr>\n",
       "      <th>Western</th>\n",
       "      <td>3947066496</td>\n",
       "      <td>0.0</td>\n",
       "      <td>554378</td>\n",
       "      <td>1505.2</td>\n",
       "      <td>332593</td>\n",
       "      <td>12720</td>\n",
       "      <td>1589997.21</td>\n",
       "    </tr>\n",
       "    <tr>\n",
       "      <th>Topwear</th>\n",
       "      <td>1512906308</td>\n",
       "      <td>111488.0</td>\n",
       "      <td>257128</td>\n",
       "      <td>755.4</td>\n",
       "      <td>166672</td>\n",
       "      <td>6442</td>\n",
       "      <td>755467.49</td>\n",
       "    </tr>\n",
       "    <tr>\n",
       "      <th>Indian Wear</th>\n",
       "      <td>1568016194</td>\n",
       "      <td>146106.0</td>\n",
       "      <td>374862</td>\n",
       "      <td>596.9</td>\n",
       "      <td>131853</td>\n",
       "      <td>5282</td>\n",
       "      <td>615237.83</td>\n",
       "    </tr>\n",
       "    <tr>\n",
       "      <th>Bottom Wear</th>\n",
       "      <td>770947975</td>\n",
       "      <td>84490.0</td>\n",
       "      <td>199355</td>\n",
       "      <td>405.8</td>\n",
       "      <td>93853</td>\n",
       "      <td>3646</td>\n",
       "      <td>414527.97</td>\n",
       "    </tr>\n",
       "    <tr>\n",
       "      <th>Plus Size</th>\n",
       "      <td>612497049</td>\n",
       "      <td>39933.0</td>\n",
       "      <td>108728</td>\n",
       "      <td>260.1</td>\n",
       "      <td>57715</td>\n",
       "      <td>2330</td>\n",
       "      <td>275517.24</td>\n",
       "    </tr>\n",
       "    <tr>\n",
       "      <th>Lingerie &amp; Sleep Wear</th>\n",
       "      <td>483372179</td>\n",
       "      <td>26640.0</td>\n",
       "      <td>57941</td>\n",
       "      <td>238.2</td>\n",
       "      <td>52927</td>\n",
       "      <td>1959</td>\n",
       "      <td>247071.98</td>\n",
       "    </tr>\n",
       "    <tr>\n",
       "      <th>Inner Wear &amp;  Sleep Wear</th>\n",
       "      <td>419652014</td>\n",
       "      <td>12978.0</td>\n",
       "      <td>31416</td>\n",
       "      <td>175.5</td>\n",
       "      <td>37796</td>\n",
       "      <td>1477</td>\n",
       "      <td>176946.46</td>\n",
       "    </tr>\n",
       "    <tr>\n",
       "      <th>Sports Wear</th>\n",
       "      <td>321695524</td>\n",
       "      <td>20182.0</td>\n",
       "      <td>60061</td>\n",
       "      <td>152.5</td>\n",
       "      <td>32929</td>\n",
       "      <td>1171</td>\n",
       "      <td>145961.44</td>\n",
       "    </tr>\n",
       "  </tbody>\n",
       "</table>\n",
       "</div>"
      ],
      "text/plain": [
       "                          Product_id  DiscountPrice (in Rs)  \\\n",
       "Category                                                      \n",
       "Western                   3947066496                    0.0   \n",
       "Topwear                   1512906308               111488.0   \n",
       "Indian Wear               1568016194               146106.0   \n",
       "Bottom Wear                770947975                84490.0   \n",
       "Plus Size                  612497049                39933.0   \n",
       "Lingerie & Sleep Wear      483372179                26640.0   \n",
       "Inner Wear &  Sleep Wear   419652014                12978.0   \n",
       "Sports Wear                321695524                20182.0   \n",
       "\n",
       "                          OriginalPrice (in Rs)  Ratings  Reviews  \\\n",
       "Category                                                            \n",
       "Western                                  554378   1505.2   332593   \n",
       "Topwear                                  257128    755.4   166672   \n",
       "Indian Wear                              374862    596.9   131853   \n",
       "Bottom Wear                              199355    405.8    93853   \n",
       "Plus Size                                108728    260.1    57715   \n",
       "Lingerie & Sleep Wear                     57941    238.2    52927   \n",
       "Inner Wear &  Sleep Wear                  31416    175.5    37796   \n",
       "Sports Wear                               60061    152.5    32929   \n",
       "\n",
       "                          QUANTITYORDERED       SALES  \n",
       "Category                                               \n",
       "Western                             12720  1589997.21  \n",
       "Topwear                              6442   755467.49  \n",
       "Indian Wear                          5282   615237.83  \n",
       "Bottom Wear                          3646   414527.97  \n",
       "Plus Size                            2330   275517.24  \n",
       "Lingerie & Sleep Wear                1959   247071.98  \n",
       "Inner Wear &  Sleep Wear             1477   176946.46  \n",
       "Sports Wear                          1171   145961.44  "
      ]
     },
     "execution_count": 22,
     "metadata": {},
     "output_type": "execute_result"
    }
   ],
   "source": [
    "product_name.sort_values('SALES',ascending=False)"
   ]
  },
  {
   "cell_type": "code",
   "execution_count": null,
   "id": "353e4c71",
   "metadata": {},
   "outputs": [],
   "source": [
    "# The data shows that the western category saled more with highest ratings and reviews as compared to other category.\n",
    "# Also shows that the discount price is 0 in the western product."
   ]
  },
  {
   "cell_type": "markdown",
   "id": "4fcaa54e",
   "metadata": {},
   "source": [
    "# Which are the most selling  brand "
   ]
  },
  {
   "cell_type": "code",
   "execution_count": 24,
   "id": "8d3eb297",
   "metadata": {},
   "outputs": [],
   "source": [
    "brand_name=pd.DataFrame(df.groupby('BrandName').sum('QUANTITYORDERED'))"
   ]
  },
  {
   "cell_type": "code",
   "execution_count": 25,
   "id": "d0ab0545",
   "metadata": {},
   "outputs": [
    {
     "data": {
      "text/html": [
       "<div>\n",
       "<style scoped>\n",
       "    .dataframe tbody tr th:only-of-type {\n",
       "        vertical-align: middle;\n",
       "    }\n",
       "\n",
       "    .dataframe tbody tr th {\n",
       "        vertical-align: top;\n",
       "    }\n",
       "\n",
       "    .dataframe thead th {\n",
       "        text-align: right;\n",
       "    }\n",
       "</style>\n",
       "<table border=\"1\" class=\"dataframe\">\n",
       "  <thead>\n",
       "    <tr style=\"text-align: right;\">\n",
       "      <th></th>\n",
       "      <th>Product_id</th>\n",
       "      <th>DiscountPrice (in Rs)</th>\n",
       "      <th>OriginalPrice (in Rs)</th>\n",
       "      <th>Ratings</th>\n",
       "      <th>Reviews</th>\n",
       "      <th>QUANTITYORDERED</th>\n",
       "      <th>SALES</th>\n",
       "    </tr>\n",
       "    <tr>\n",
       "      <th>BrandName</th>\n",
       "      <th></th>\n",
       "      <th></th>\n",
       "      <th></th>\n",
       "      <th></th>\n",
       "      <th></th>\n",
       "      <th></th>\n",
       "      <th></th>\n",
       "    </tr>\n",
       "  </thead>\n",
       "  <tbody>\n",
       "    <tr>\n",
       "      <th>Roadster</th>\n",
       "      <td>2374290613</td>\n",
       "      <td>56606.0</td>\n",
       "      <td>319212</td>\n",
       "      <td>893.4</td>\n",
       "      <td>198433</td>\n",
       "      <td>7593</td>\n",
       "      <td>860027.02</td>\n",
       "    </tr>\n",
       "    <tr>\n",
       "      <th>HERE&amp;NOW</th>\n",
       "      <td>433583139</td>\n",
       "      <td>26907.0</td>\n",
       "      <td>73652</td>\n",
       "      <td>193.2</td>\n",
       "      <td>43489</td>\n",
       "      <td>1730</td>\n",
       "      <td>214809.26</td>\n",
       "    </tr>\n",
       "    <tr>\n",
       "      <th>HRX by Hrithik Roshan</th>\n",
       "      <td>405754153</td>\n",
       "      <td>26379.0</td>\n",
       "      <td>83146</td>\n",
       "      <td>215.0</td>\n",
       "      <td>46110</td>\n",
       "      <td>1644</td>\n",
       "      <td>201292.43</td>\n",
       "    </tr>\n",
       "    <tr>\n",
       "      <th>Mast &amp; Harbour</th>\n",
       "      <td>414391241</td>\n",
       "      <td>18152.0</td>\n",
       "      <td>64396</td>\n",
       "      <td>193.8</td>\n",
       "      <td>43354</td>\n",
       "      <td>1626</td>\n",
       "      <td>197224.75</td>\n",
       "    </tr>\n",
       "    <tr>\n",
       "      <th>HIGHLANDER</th>\n",
       "      <td>345731307</td>\n",
       "      <td>27274.0</td>\n",
       "      <td>58505</td>\n",
       "      <td>183.3</td>\n",
       "      <td>40888</td>\n",
       "      <td>1567</td>\n",
       "      <td>189570.46</td>\n",
       "    </tr>\n",
       "    <tr>\n",
       "      <th>...</th>\n",
       "      <td>...</td>\n",
       "      <td>...</td>\n",
       "      <td>...</td>\n",
       "      <td>...</td>\n",
       "      <td>...</td>\n",
       "      <td>...</td>\n",
       "      <td>...</td>\n",
       "    </tr>\n",
       "    <tr>\n",
       "      <th>Shaily</th>\n",
       "      <td>10037083</td>\n",
       "      <td>1399.0</td>\n",
       "      <td>3999</td>\n",
       "      <td>4.0</td>\n",
       "      <td>845</td>\n",
       "      <td>22</td>\n",
       "      <td>3223.44</td>\n",
       "    </tr>\n",
       "    <tr>\n",
       "      <th>Dennis Lingo</th>\n",
       "      <td>14094532</td>\n",
       "      <td>684.0</td>\n",
       "      <td>1849</td>\n",
       "      <td>4.2</td>\n",
       "      <td>957</td>\n",
       "      <td>21</td>\n",
       "      <td>3415.44</td>\n",
       "    </tr>\n",
       "    <tr>\n",
       "      <th>Hypernation</th>\n",
       "      <td>8255921</td>\n",
       "      <td>797.0</td>\n",
       "      <td>985</td>\n",
       "      <td>4.4</td>\n",
       "      <td>886</td>\n",
       "      <td>20</td>\n",
       "      <td>1262.80</td>\n",
       "    </tr>\n",
       "    <tr>\n",
       "      <th>Belle Fille</th>\n",
       "      <td>596473</td>\n",
       "      <td>0.0</td>\n",
       "      <td>1595</td>\n",
       "      <td>3.6</td>\n",
       "      <td>978</td>\n",
       "      <td>20</td>\n",
       "      <td>4570.40</td>\n",
       "    </tr>\n",
       "    <tr>\n",
       "      <th>Lebami</th>\n",
       "      <td>7739835</td>\n",
       "      <td>447.0</td>\n",
       "      <td>699</td>\n",
       "      <td>4.2</td>\n",
       "      <td>962</td>\n",
       "      <td>20</td>\n",
       "      <td>4904.00</td>\n",
       "    </tr>\n",
       "  </tbody>\n",
       "</table>\n",
       "<p>141 rows × 7 columns</p>\n",
       "</div>"
      ],
      "text/plain": [
       "                       Product_id  DiscountPrice (in Rs)  \\\n",
       "BrandName                                                  \n",
       "Roadster               2374290613                56606.0   \n",
       "HERE&NOW                433583139                26907.0   \n",
       "HRX by Hrithik Roshan   405754153                26379.0   \n",
       "Mast & Harbour          414391241                18152.0   \n",
       "HIGHLANDER              345731307                27274.0   \n",
       "...                           ...                    ...   \n",
       "Shaily                   10037083                 1399.0   \n",
       "Dennis Lingo             14094532                  684.0   \n",
       "Hypernation               8255921                  797.0   \n",
       "Belle Fille                596473                    0.0   \n",
       "Lebami                    7739835                  447.0   \n",
       "\n",
       "                       OriginalPrice (in Rs)  Ratings  Reviews  \\\n",
       "BrandName                                                        \n",
       "Roadster                              319212    893.4   198433   \n",
       "HERE&NOW                               73652    193.2    43489   \n",
       "HRX by Hrithik Roshan                  83146    215.0    46110   \n",
       "Mast & Harbour                         64396    193.8    43354   \n",
       "HIGHLANDER                             58505    183.3    40888   \n",
       "...                                      ...      ...      ...   \n",
       "Shaily                                  3999      4.0      845   \n",
       "Dennis Lingo                            1849      4.2      957   \n",
       "Hypernation                              985      4.4      886   \n",
       "Belle Fille                             1595      3.6      978   \n",
       "Lebami                                   699      4.2      962   \n",
       "\n",
       "                       QUANTITYORDERED      SALES  \n",
       "BrandName                                          \n",
       "Roadster                          7593  860027.02  \n",
       "HERE&NOW                          1730  214809.26  \n",
       "HRX by Hrithik Roshan             1644  201292.43  \n",
       "Mast & Harbour                    1626  197224.75  \n",
       "HIGHLANDER                        1567  189570.46  \n",
       "...                                ...        ...  \n",
       "Shaily                              22    3223.44  \n",
       "Dennis Lingo                        21    3415.44  \n",
       "Hypernation                         20    1262.80  \n",
       "Belle Fille                         20    4570.40  \n",
       "Lebami                              20    4904.00  \n",
       "\n",
       "[141 rows x 7 columns]"
      ]
     },
     "execution_count": 25,
     "metadata": {},
     "output_type": "execute_result"
    }
   ],
   "source": [
    "brand_name.sort_values('QUANTITYORDERED',ascending=False)"
   ]
  },
  {
   "cell_type": "code",
   "execution_count": null,
   "id": "adb29f11",
   "metadata": {},
   "outputs": [],
   "source": [
    "# The data shows that the most selling  brand is Roadster with highest ratings and reviews as compared to other category.\n",
    "# Also shows that the lowest selling brand is Lebami."
   ]
  },
  {
   "cell_type": "markdown",
   "id": "42d33015",
   "metadata": {},
   "source": [
    "# What is the most prefered ship mode"
   ]
  },
  {
   "cell_type": "code",
   "execution_count": 26,
   "id": "19fd73f5",
   "metadata": {},
   "outputs": [
    {
     "data": {
      "text/plain": [
       "<AxesSubplot:xlabel='PRODUCTLINE', ylabel='count'>"
      ]
     },
     "execution_count": 26,
     "metadata": {},
     "output_type": "execute_result"
    },
    {
     "data": {
      "image/png": "[encoded data removed]",
      "text/plain": [
       "<Figure size 720x576 with 1 Axes>"
      ]
     },
     "metadata": {
      "needs_background": "light"
     },
     "output_type": "display_data"
    }
   ],
   "source": [
    "plt.figure(figsize=(10,8))\n",
    "sns.countplot(df['PRODUCTLINE'])\n"
   ]
  },
  {
   "cell_type": "code",
   "execution_count": 74,
   "id": "bd6af211",
   "metadata": {},
   "outputs": [],
   "source": [
    "# The data shows that the most prefered shipping mode is Classic Cars as well as the lowest mode is Ships and Planes."
   ]
  },
  {
   "cell_type": "markdown",
   "id": "5415bc46",
   "metadata": {},
   "source": [
    "# Which are the most buy categary and sub-category"
   ]
  },
  {
   "cell_type": "code",
   "execution_count": 80,
   "id": "d77c80a8",
   "metadata": {},
   "outputs": [],
   "source": [
    "data1=df.groupby('Category')['Individual_category','category_by_Gender'].agg([np.max])"
   ]
  },
  {
   "cell_type": "code",
   "execution_count": 81,
   "id": "8a99a389",
   "metadata": {},
   "outputs": [
    {
     "data": {
      "text/html": [
       "<div>\n",
       "<style scoped>\n",
       "    .dataframe tbody tr th:only-of-type {\n",
       "        vertical-align: middle;\n",
       "    }\n",
       "\n",
       "    .dataframe tbody tr th {\n",
       "        vertical-align: top;\n",
       "    }\n",
       "\n",
       "    .dataframe thead tr th {\n",
       "        text-align: left;\n",
       "    }\n",
       "\n",
       "    .dataframe thead tr:last-of-type th {\n",
       "        text-align: right;\n",
       "    }\n",
       "</style>\n",
       "<table border=\"1\" class=\"dataframe\">\n",
       "  <thead>\n",
       "    <tr>\n",
       "      <th></th>\n",
       "      <th>Individual_category</th>\n",
       "      <th>category_by_Gender</th>\n",
       "    </tr>\n",
       "    <tr>\n",
       "      <th></th>\n",
       "      <th>amax</th>\n",
       "      <th>amax</th>\n",
       "    </tr>\n",
       "    <tr>\n",
       "      <th>Category</th>\n",
       "      <th></th>\n",
       "      <th></th>\n",
       "    </tr>\n",
       "  </thead>\n",
       "  <tbody>\n",
       "    <tr>\n",
       "      <th>Bottom Wear</th>\n",
       "      <td>trousers</td>\n",
       "      <td>Men</td>\n",
       "    </tr>\n",
       "    <tr>\n",
       "      <th>Indian Wear</th>\n",
       "      <td>tunics</td>\n",
       "      <td>Women</td>\n",
       "    </tr>\n",
       "    <tr>\n",
       "      <th>Inner Wear &amp;  Sleep Wear</th>\n",
       "      <td>trunk</td>\n",
       "      <td>Men</td>\n",
       "    </tr>\n",
       "    <tr>\n",
       "      <th>Lingerie &amp; Sleep Wear</th>\n",
       "      <td>stockings</td>\n",
       "      <td>Women</td>\n",
       "    </tr>\n",
       "    <tr>\n",
       "      <th>Plus Size</th>\n",
       "      <td>tshirts</td>\n",
       "      <td>Women</td>\n",
       "    </tr>\n",
       "    <tr>\n",
       "      <th>Sports Wear</th>\n",
       "      <td>tshirts</td>\n",
       "      <td>Women</td>\n",
       "    </tr>\n",
       "    <tr>\n",
       "      <th>Topwear</th>\n",
       "      <td>tshirts</td>\n",
       "      <td>Men</td>\n",
       "    </tr>\n",
       "    <tr>\n",
       "      <th>Western</th>\n",
       "      <td>tshirts</td>\n",
       "      <td>Women</td>\n",
       "    </tr>\n",
       "  </tbody>\n",
       "</table>\n",
       "</div>"
      ],
      "text/plain": [
       "                         Individual_category category_by_Gender\n",
       "                                        amax               amax\n",
       "Category                                                       \n",
       "Bottom Wear                         trousers                Men\n",
       "Indian Wear                           tunics              Women\n",
       "Inner Wear &  Sleep Wear               trunk                Men\n",
       "Lingerie & Sleep Wear              stockings              Women\n",
       "Plus Size                            tshirts              Women\n",
       "Sports Wear                          tshirts              Women\n",
       "Topwear                              tshirts                Men\n",
       "Western                              tshirts              Women"
      ]
     },
     "execution_count": 81,
     "metadata": {},
     "output_type": "execute_result"
    }
   ],
   "source": [
    "data1"
   ]
  },
  {
   "cell_type": "code",
   "execution_count": 82,
   "id": "d57f3a4e",
   "metadata": {},
   "outputs": [
    {
     "data": {
      "text/plain": [
       "(Individual_category, amax)  (category_by_Gender, amax)\n",
       "tshirts                      Women                         3\n",
       "stockings                    Women                         1\n",
       "trousers                     Men                           1\n",
       "trunk                        Men                           1\n",
       "tshirts                      Men                           1\n",
       "tunics                       Women                         1\n",
       "dtype: int64"
      ]
     },
     "execution_count": 82,
     "metadata": {},
     "output_type": "execute_result"
    }
   ],
   "source": [
    "data1.value_counts()"
   ]
  },
  {
   "cell_type": "code",
   "execution_count": null,
   "id": "a196ea80",
   "metadata": {},
   "outputs": [],
   "source": [
    "# The data shows that the which individual_category buyed more with their gender category\n",
    "# The data shows that the tshirts are buyng more by womens.\n"
   ]
  },
  {
   "cell_type": "markdown",
   "id": "847b94e6",
   "metadata": {},
   "source": [
    "# What type of product is sold the most"
   ]
  },
  {
   "cell_type": "code",
   "execution_count": 29,
   "id": "5b92bea3",
   "metadata": {},
   "outputs": [
    {
     "data": {
      "text/plain": [
       "Western                     365\n",
       "Topwear                     184\n",
       "Indian Wear                 146\n",
       "Bottom Wear                 104\n",
       "Plus Size                    64\n",
       "Lingerie & Sleep Wear        58\n",
       "Inner Wear &  Sleep Wear     42\n",
       "Sports Wear                  36\n",
       "Name: Category, dtype: int64"
      ]
     },
     "execution_count": 29,
     "metadata": {},
     "output_type": "execute_result"
    }
   ],
   "source": [
    "df['Category'].value_counts()\n"
   ]
  },
  {
   "cell_type": "code",
   "execution_count": 83,
   "id": "0a8de172",
   "metadata": {},
   "outputs": [],
   "source": [
    "# The data shows that the Western product is sold the most.\n"
   ]
  },
  {
   "cell_type": "markdown",
   "id": "e20f2573",
   "metadata": {},
   "source": [
    "# What is the buying product of females and males and in which category do they spend a lot?"
   ]
  },
  {
   "cell_type": "code",
   "execution_count": 30,
   "id": "dcdf6b6e",
   "metadata": {},
   "outputs": [
    {
     "data": {
      "text/plain": [
       "<AxesSubplot:xlabel='Category', ylabel='count'>"
      ]
     },
     "execution_count": 30,
     "metadata": {},
     "output_type": "execute_result"
    },
    {
     "data": {
      "image/png": "[encoded data removed]",
      "text/plain": [
       "<Figure size 864x576 with 1 Axes>"
      ]
     },
     "metadata": {
      "needs_background": "light"
     },
     "output_type": "display_data"
    }
   ],
   "source": [
    "plt.figure(figsize=(12,8))\n",
    "sns.countplot('Category',data=df)\n"
   ]
  },
  {
   "cell_type": "code",
   "execution_count": 84,
   "id": "0d25c9c2",
   "metadata": {},
   "outputs": [],
   "source": [
    "# The data shows that the Western product is buyed more."
   ]
  },
  {
   "cell_type": "markdown",
   "id": "ae859eb2",
   "metadata": {},
   "source": [
    "## Sales frequency Distribution"
   ]
  },
  {
   "cell_type": "code",
   "execution_count": 31,
   "id": "ad278735",
   "metadata": {},
   "outputs": [
    {
     "name": "stdout",
     "output_type": "stream",
     "text": [
      "4224.9525725725725\n"
     ]
    },
    {
     "data": {
      "image/png": "[encoded data removed]",
      "text/plain": [
       "<Figure size 432x288 with 1 Axes>"
      ]
     },
     "metadata": {
      "needs_background": "light"
     },
     "output_type": "display_data"
    }
   ],
   "source": [
    "SALES_mean=df['SALES'].mean()\n",
    "print(SALES_mean)\n",
    "SALES_median=df['SALES'].median()\n",
    "plt.hist(df['SALES'],bins=15)\n",
    "plt.axvline(SALES_mean,color=\"r\")\n",
    "plt.axvline(SALES_median,color=\"yellow\")\n",
    "plt.xlabel(\"SALES\")\n",
    "plt.ylabel(\"Frequency\")\n",
    "plt.title(\"SALES frequency Distribution\")\n",
    "plt.grid()\n",
    "plt.show()"
   ]
  },
  {
   "cell_type": "code",
   "execution_count": 32,
   "id": "44c8e508",
   "metadata": {},
   "outputs": [],
   "source": [
    "## Above graph shows the distribution of the sales data.\n",
    "## mean is greater than the median mean it means it is a right skewed."
   ]
  },
  {
   "cell_type": "markdown",
   "id": "726f89fa",
   "metadata": {},
   "source": [
    "## To check the original price is affected or not in discount price?"
   ]
  },
  {
   "cell_type": "code",
   "execution_count": 33,
   "id": "2f5be9eb",
   "metadata": {},
   "outputs": [
    {
     "data": {
      "image/png": "[encoded data removed]",
      "text/plain": [
       "<Figure size 432x288 with 1 Axes>"
      ]
     },
     "metadata": {
      "needs_background": "light"
     },
     "output_type": "display_data"
    }
   ],
   "source": [
    "plt.scatter(df['OriginalPrice (in Rs)'],df['DiscountPrice (in Rs)'])\n",
    "plt.show()"
   ]
  },
  {
   "cell_type": "code",
   "execution_count": 34,
   "id": "76f07f9d",
   "metadata": {},
   "outputs": [],
   "source": [
    "#Above chart shows,as OriginalPrice increase the DiscountPrice also increases.\n",
    "#Chart shows +ve corletion(+ve trend)"
   ]
  },
  {
   "cell_type": "markdown",
   "id": "cbbac280",
   "metadata": {},
   "source": [
    "# As compare to male and female which one is buy more Indivdual-Category"
   ]
  },
  {
   "cell_type": "code",
   "execution_count": 48,
   "id": "f4808b10",
   "metadata": {},
   "outputs": [],
   "source": [
    "high_cat=df.groupby('Individual_category')['category_by_Gender'].max()"
   ]
  },
  {
   "cell_type": "code",
   "execution_count": 49,
   "id": "57484452",
   "metadata": {},
   "outputs": [
    {
     "data": {
      "text/plain": [
       "Individual_category\n",
       "bath-robe          Women\n",
       "boxers               Men\n",
       "bra                Women\n",
       "briefs             Women\n",
       "dresses            Women\n",
       "dupatta            Women\n",
       "innerwear-vests      Men\n",
       "jackets            Women\n",
       "jeans              Women\n",
       "jeggings           Women\n",
       "jumpsuit           Women\n",
       "kurta-sets         Women\n",
       "kurtas             Women\n",
       "kurtis             Women\n",
       "leggings           Women\n",
       "lounge-pants       Women\n",
       "lounge-shorts        Men\n",
       "night-suits        Women\n",
       "palazzos           Women\n",
       "sarees             Women\n",
       "shapewear          Women\n",
       "shirts             Women\n",
       "shorts             Women\n",
       "shrug              Women\n",
       "skirts             Women\n",
       "socks                Men\n",
       "stockings          Women\n",
       "sweaters           Women\n",
       "sweatshirts        Women\n",
       "tights             Women\n",
       "tops               Women\n",
       "track-pants        Women\n",
       "trousers           Women\n",
       "trunk                Men\n",
       "tshirts            Women\n",
       "tunics             Women\n",
       "Name: category_by_Gender, dtype: object"
      ]
     },
     "execution_count": 49,
     "metadata": {},
     "output_type": "execute_result"
    }
   ],
   "source": [
    "high_cat\n"
   ]
  },
  {
   "cell_type": "code",
   "execution_count": 50,
   "id": "4db1c3ab",
   "metadata": {},
   "outputs": [
    {
     "data": {
      "text/plain": [
       "Women    31\n",
       "Men       5\n",
       "Name: category_by_Gender, dtype: int64"
      ]
     },
     "execution_count": 50,
     "metadata": {},
     "output_type": "execute_result"
    }
   ],
   "source": [
    "high_cat.value_counts()"
   ]
  },
  {
   "cell_type": "code",
   "execution_count": 51,
   "id": "992ae239",
   "metadata": {},
   "outputs": [],
   "source": [
    "## the data shows that the females more buying individual product as compare to male."
   ]
  },
  {
   "cell_type": "markdown",
   "id": "fc054fe4",
   "metadata": {},
   "source": [
    "## To check all the category and individual-category,Which size is prefered more?"
   ]
  },
  {
   "cell_type": "code",
   "execution_count": 52,
   "id": "7ba27e82",
   "metadata": {},
   "outputs": [
    {
     "data": {
      "text/plain": [
       "<AxesSubplot:>"
      ]
     },
     "execution_count": 52,
     "metadata": {},
     "output_type": "execute_result"
    },
    {
     "data": {
      "image/png": "[encoded data removed]",
      "text/plain": [
       "<Figure size 432x288 with 1 Axes>"
      ]
     },
     "metadata": {
      "needs_background": "light"
     },
     "output_type": "display_data"
    }
   ],
   "source": [
    "df['DEALSIZE'].value_counts().plot(kind=\"bar\")"
   ]
  },
  {
   "cell_type": "code",
   "execution_count": 53,
   "id": "b91249ef",
   "metadata": {},
   "outputs": [],
   "source": [
    "## as per given graph the medium size is more prefered."
   ]
  },
  {
   "cell_type": "code",
   "execution_count": null,
   "id": "2bb394a5",
   "metadata": {},
   "outputs": [],
   "source": []
  }
 ],
 "metadata": {
  "kernelspec": {
   "display_name": "Python 3 (ipykernel)",
   "language": "python",
   "name": "python3"
  },
  "language_info": {
   "codemirror_mode": {
    "name": "ipython",
    "version": 3
   },
   "file_extension": ".py",
   "mimetype": "text/x-python",
   "name": "python",
   "nbconvert_exporter": "python",
   "pygments_lexer": "ipython3",
   "version": "3.9.7"
  }
 },
 "nbformat": 4,
 "nbformat_minor": 5
}
